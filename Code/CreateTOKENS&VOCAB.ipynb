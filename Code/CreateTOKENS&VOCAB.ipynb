{
 "cells": [
  {
   "cell_type": "markdown",
   "id": "965e93aa-358a-48fc-8702-0a24c404d48c",
   "metadata": {},
   "source": [
    "Yang Yu (yy5bm@virginia.edu) DS 5001 Spring 2023"
   ]
  },
  {
   "cell_type": "markdown",
   "id": "d95f1087-4e5a-4b68-a4d2-6f6986f20e8e",
   "metadata": {
    "jp-MarkdownHeadingCollapsed": true,
    "tags": []
   },
   "source": [
    "# Purpose\n",
    "Create F2 tables from DOCS"
   ]
  },
  {
   "cell_type": "markdown",
   "id": "e7d13039-a907-4565-a803-58e2934dee65",
   "metadata": {},
   "source": [
    "# Setup"
   ]
  },
  {
   "cell_type": "code",
   "execution_count": 47,
   "id": "28f2194a-ec02-40ee-a135-716dbd0b362b",
   "metadata": {},
   "outputs": [],
   "source": [
    "import pandas as pd\n",
    "import nltk\n",
    "import numpy as np\n",
    "from nltk.stem.porter import PorterStemmer"
   ]
  },
  {
   "cell_type": "markdown",
   "id": "50a13f1e-f467-4b91-acb4-ac262a224455",
   "metadata": {},
   "source": [
    "customize directory"
   ]
  },
  {
   "cell_type": "code",
   "execution_count": 119,
   "id": "c2c3238f-8372-4f57-b68b-5380acdc4404",
   "metadata": {},
   "outputs": [],
   "source": [
    "data_in = '/Users/yangyu/Desktop'\n",
    "data_prefix = 'DS5001'\n",
    "\n",
    "df = pd.read_pickle(f'{data_in}/{data_prefix}/patents.pickle')\n",
    "df = df[df['year_y'] == 1997].drop('year_y', axis = 1)\n",
    "df.columns = ['para_str']"
   ]
  },
  {
   "cell_type": "markdown",
   "id": "d776fe5e-515e-4c4f-8e18-37036fc29d1c",
   "metadata": {},
   "source": [
    "# Clean data"
   ]
  },
  {
   "cell_type": "markdown",
   "id": "a44e8598-1800-4dcd-a35f-b13cf6a8a6ec",
   "metadata": {},
   "source": [
    "## Clean"
   ]
  },
  {
   "cell_type": "code",
   "execution_count": 121,
   "id": "c6cd2f78-e026-4af3-a154-c3df1ea57245",
   "metadata": {},
   "outputs": [],
   "source": [
    "df1 = df.copy()"
   ]
  },
  {
   "cell_type": "code",
   "execution_count": 122,
   "id": "632ddf23-0642-4dfe-b0a4-868ade392f7e",
   "metadata": {},
   "outputs": [],
   "source": [
    "# clean para_str\n",
    "df1['para_str'] = df1['para_str'].str.replace(r'\\n', ' ', regex=True)\n",
    "\n",
    "df1['para_str'] = df1['para_str'].replace(r'[^a-zA-Z]+', ' ', regex=True).str.lower()\n",
    "\n",
    "df1['para_str'] = df1['para_str'].str.strip()\n",
    "\n",
    "df1 = df1[~df1['para_str'].str.match(r'^\\s*$')] # Remove empty paragraphs"
   ]
  },
  {
   "cell_type": "markdown",
   "id": "7a5343a3-420d-4c28-9a8c-3e3ecfe80417",
   "metadata": {},
   "source": [
    "## Parse"
   ]
  },
  {
   "cell_type": "code",
   "execution_count": 76,
   "id": "3bffca3b-5318-4aa9-a6f4-f004eb8f59a1",
   "metadata": {},
   "outputs": [],
   "source": [
    "#SENTS = PARAS.para_str.apply(lambda x: pd.Series(nltk.sent_tokenize(x)))\\\n",
    " #       .stack()\\\n",
    "  #      .to_frame('sent_str')\n",
    "#SENTS.index.names = ['doc_id','sent_num']"
   ]
  },
  {
   "cell_type": "code",
   "execution_count": 123,
   "id": "495de2db-cf73-4411-91b7-ecc9f1135f50",
   "metadata": {},
   "outputs": [
    {
     "data": {
      "text/html": [
       "<div>\n",
       "<style scoped>\n",
       "    .dataframe tbody tr th:only-of-type {\n",
       "        vertical-align: middle;\n",
       "    }\n",
       "\n",
       "    .dataframe tbody tr th {\n",
       "        vertical-align: top;\n",
       "    }\n",
       "\n",
       "    .dataframe thead th {\n",
       "        text-align: right;\n",
       "    }\n",
       "</style>\n",
       "<table border=\"1\" class=\"dataframe\">\n",
       "  <thead>\n",
       "    <tr style=\"text-align: right;\">\n",
       "      <th></th>\n",
       "      <th>para_str</th>\n",
       "    </tr>\n",
       "    <tr>\n",
       "      <th>doc_id</th>\n",
       "      <th></th>\n",
       "    </tr>\n",
       "  </thead>\n",
       "  <tbody>\n",
       "    <tr>\n",
       "      <th>5597916</th>\n",
       "      <td>examples analytical data were recorded for the...</td>\n",
       "    </tr>\n",
       "    <tr>\n",
       "      <th>5613043</th>\n",
       "      <td>description of the preferred embodiment fig sh...</td>\n",
       "    </tr>\n",
       "    <tr>\n",
       "      <th>5613040</th>\n",
       "      <td>description of the preferred embodiment fig sh...</td>\n",
       "    </tr>\n",
       "    <tr>\n",
       "      <th>5615307</th>\n",
       "      <td>description of the preferred embodiment fig sh...</td>\n",
       "    </tr>\n",
       "    <tr>\n",
       "      <th>5692098</th>\n",
       "      <td>description of preferred embodiments with refe...</td>\n",
       "    </tr>\n",
       "    <tr>\n",
       "      <th>...</th>\n",
       "      <td>...</td>\n",
       "    </tr>\n",
       "    <tr>\n",
       "      <th>5648919</th>\n",
       "      <td>description of the preferred embodiments examp...</td>\n",
       "    </tr>\n",
       "    <tr>\n",
       "      <th>5645431</th>\n",
       "      <td>detailed description of preferred embodiments ...</td>\n",
       "    </tr>\n",
       "    <tr>\n",
       "      <th>5649061</th>\n",
       "      <td>detailed description of the preferred embodime...</td>\n",
       "    </tr>\n",
       "    <tr>\n",
       "      <th>5592774</th>\n",
       "      <td>detailed description of the preferred embodime...</td>\n",
       "    </tr>\n",
       "    <tr>\n",
       "      <th>5619621</th>\n",
       "      <td>detailed description the expert system of the ...</td>\n",
       "    </tr>\n",
       "  </tbody>\n",
       "</table>\n",
       "<p>904 rows × 1 columns</p>\n",
       "</div>"
      ],
      "text/plain": [
       "                                                  para_str\n",
       "doc_id                                                    \n",
       "5597916  examples analytical data were recorded for the...\n",
       "5613043  description of the preferred embodiment fig sh...\n",
       "5613040  description of the preferred embodiment fig sh...\n",
       "5615307  description of the preferred embodiment fig sh...\n",
       "5692098  description of preferred embodiments with refe...\n",
       "...                                                    ...\n",
       "5648919  description of the preferred embodiments examp...\n",
       "5645431  detailed description of preferred embodiments ...\n",
       "5649061  detailed description of the preferred embodime...\n",
       "5592774  detailed description of the preferred embodime...\n",
       "5619621  detailed description the expert system of the ...\n",
       "\n",
       "[904 rows x 1 columns]"
      ]
     },
     "execution_count": 123,
     "metadata": {},
     "output_type": "execute_result"
    }
   ],
   "source": [
    "df1"
   ]
  },
  {
   "cell_type": "markdown",
   "id": "c5a58ac1-25b2-4ce6-9b76-051e9f23ee4e",
   "metadata": {},
   "source": [
    "## TOKENS"
   ]
  },
  {
   "cell_type": "code",
   "execution_count": 124,
   "id": "e7396726-24d8-44ec-a7ee-f4a1ae381116",
   "metadata": {
    "tags": []
   },
   "outputs": [],
   "source": [
    "keep_whitespace = True\n",
    "\n",
    "if keep_whitespace:\n",
    "    TOKENS = df1.para_str\\\n",
    "            .apply(lambda x: pd.Series(nltk.pos_tag(nltk.word_tokenize(x))))\\\n",
    "            .stack()\\\n",
    "            .to_frame('pos_tuple')\n",
    "else:\n",
    "    TOKENS = df1.para_str\\\n",
    "            .apply(lambda x: pd.Series(nltk.pos_tag(nltk.WhitespaceTokenizer().tokenize(x))))\\\n",
    "            .stack()\\\n",
    "            .to_frame('pos_tuple')"
   ]
  },
  {
   "cell_type": "code",
   "execution_count": 125,
   "id": "a541656d-81a2-4742-bc55-cd8bb6d3b42c",
   "metadata": {},
   "outputs": [
    {
     "data": {
      "text/html": [
       "<div>\n",
       "<style scoped>\n",
       "    .dataframe tbody tr th:only-of-type {\n",
       "        vertical-align: middle;\n",
       "    }\n",
       "\n",
       "    .dataframe tbody tr th {\n",
       "        vertical-align: top;\n",
       "    }\n",
       "\n",
       "    .dataframe thead th {\n",
       "        text-align: right;\n",
       "    }\n",
       "</style>\n",
       "<table border=\"1\" class=\"dataframe\">\n",
       "  <thead>\n",
       "    <tr style=\"text-align: right;\">\n",
       "      <th></th>\n",
       "      <th></th>\n",
       "      <th>pos_tuple</th>\n",
       "    </tr>\n",
       "    <tr>\n",
       "      <th>doc_id</th>\n",
       "      <th></th>\n",
       "      <th></th>\n",
       "    </tr>\n",
       "  </thead>\n",
       "  <tbody>\n",
       "    <tr>\n",
       "      <th rowspan=\"5\" valign=\"top\">5597916</th>\n",
       "      <th>0</th>\n",
       "      <td>(examples, NNS)</td>\n",
       "    </tr>\n",
       "    <tr>\n",
       "      <th>1</th>\n",
       "      <td>(analytical, JJ)</td>\n",
       "    </tr>\n",
       "    <tr>\n",
       "      <th>2</th>\n",
       "      <td>(data, NNS)</td>\n",
       "    </tr>\n",
       "    <tr>\n",
       "      <th>3</th>\n",
       "      <td>(were, VBD)</td>\n",
       "    </tr>\n",
       "    <tr>\n",
       "      <th>4</th>\n",
       "      <td>(recorded, VBN)</td>\n",
       "    </tr>\n",
       "    <tr>\n",
       "      <th>...</th>\n",
       "      <th>...</th>\n",
       "      <td>...</td>\n",
       "    </tr>\n",
       "    <tr>\n",
       "      <th rowspan=\"5\" valign=\"top\">5619621</th>\n",
       "      <th>4717</th>\n",
       "      <td>(permitted, VBN)</td>\n",
       "    </tr>\n",
       "    <tr>\n",
       "      <th>4718</th>\n",
       "      <td>(by, IN)</td>\n",
       "    </tr>\n",
       "    <tr>\n",
       "      <th>4719</th>\n",
       "      <td>(the, DT)</td>\n",
       "    </tr>\n",
       "    <tr>\n",
       "      <th>4720</th>\n",
       "      <td>(prior, JJ)</td>\n",
       "    </tr>\n",
       "    <tr>\n",
       "      <th>4721</th>\n",
       "      <td>(art, NN)</td>\n",
       "    </tr>\n",
       "  </tbody>\n",
       "</table>\n",
       "<p>5820454 rows × 1 columns</p>\n",
       "</div>"
      ],
      "text/plain": [
       "                     pos_tuple\n",
       "doc_id                        \n",
       "5597916 0      (examples, NNS)\n",
       "        1     (analytical, JJ)\n",
       "        2          (data, NNS)\n",
       "        3          (were, VBD)\n",
       "        4      (recorded, VBN)\n",
       "...                        ...\n",
       "5619621 4717  (permitted, VBN)\n",
       "        4718          (by, IN)\n",
       "        4719         (the, DT)\n",
       "        4720       (prior, JJ)\n",
       "        4721         (art, NN)\n",
       "\n",
       "[5820454 rows x 1 columns]"
      ]
     },
     "execution_count": 125,
     "metadata": {},
     "output_type": "execute_result"
    }
   ],
   "source": [
    "TOKENS"
   ]
  },
  {
   "cell_type": "code",
   "execution_count": 126,
   "id": "16347635-0fcb-416a-8f88-a35bb6d0506a",
   "metadata": {},
   "outputs": [],
   "source": [
    "TOKENS.index.names = ['doc_id','token_num']\n",
    "\n",
    "TOKENS['pos'] = TOKENS.pos_tuple.apply(lambda x: x[1])\n",
    "TOKENS['token_str'] = TOKENS.pos_tuple.apply(lambda x: x[0])\n",
    "TOKENS['term_str'] = TOKENS.token_str.str.lower()"
   ]
  },
  {
   "cell_type": "code",
   "execution_count": 127,
   "id": "1f041d57-2ddc-4a7a-9b7a-c98e0839d774",
   "metadata": {},
   "outputs": [],
   "source": [
    "TOKENS = TOKENS[TOKENS['pos'].notna()] # remove characters such as '.' etc."
   ]
  },
  {
   "cell_type": "code",
   "execution_count": 128,
   "id": "3d260393-9504-4f77-bcb4-4b662a98a254",
   "metadata": {},
   "outputs": [
    {
     "data": {
      "text/html": [
       "<div>\n",
       "<style scoped>\n",
       "    .dataframe tbody tr th:only-of-type {\n",
       "        vertical-align: middle;\n",
       "    }\n",
       "\n",
       "    .dataframe tbody tr th {\n",
       "        vertical-align: top;\n",
       "    }\n",
       "\n",
       "    .dataframe thead th {\n",
       "        text-align: right;\n",
       "    }\n",
       "</style>\n",
       "<table border=\"1\" class=\"dataframe\">\n",
       "  <thead>\n",
       "    <tr style=\"text-align: right;\">\n",
       "      <th></th>\n",
       "      <th></th>\n",
       "      <th>pos_tuple</th>\n",
       "      <th>pos</th>\n",
       "      <th>token_str</th>\n",
       "      <th>term_str</th>\n",
       "    </tr>\n",
       "    <tr>\n",
       "      <th>doc_id</th>\n",
       "      <th>token_num</th>\n",
       "      <th></th>\n",
       "      <th></th>\n",
       "      <th></th>\n",
       "      <th></th>\n",
       "    </tr>\n",
       "  </thead>\n",
       "  <tbody>\n",
       "    <tr>\n",
       "      <th rowspan=\"5\" valign=\"top\">5597916</th>\n",
       "      <th>0</th>\n",
       "      <td>(examples, NNS)</td>\n",
       "      <td>NNS</td>\n",
       "      <td>examples</td>\n",
       "      <td>examples</td>\n",
       "    </tr>\n",
       "    <tr>\n",
       "      <th>1</th>\n",
       "      <td>(analytical, JJ)</td>\n",
       "      <td>JJ</td>\n",
       "      <td>analytical</td>\n",
       "      <td>analytical</td>\n",
       "    </tr>\n",
       "    <tr>\n",
       "      <th>2</th>\n",
       "      <td>(data, NNS)</td>\n",
       "      <td>NNS</td>\n",
       "      <td>data</td>\n",
       "      <td>data</td>\n",
       "    </tr>\n",
       "    <tr>\n",
       "      <th>3</th>\n",
       "      <td>(were, VBD)</td>\n",
       "      <td>VBD</td>\n",
       "      <td>were</td>\n",
       "      <td>were</td>\n",
       "    </tr>\n",
       "    <tr>\n",
       "      <th>4</th>\n",
       "      <td>(recorded, VBN)</td>\n",
       "      <td>VBN</td>\n",
       "      <td>recorded</td>\n",
       "      <td>recorded</td>\n",
       "    </tr>\n",
       "    <tr>\n",
       "      <th>...</th>\n",
       "      <th>...</th>\n",
       "      <td>...</td>\n",
       "      <td>...</td>\n",
       "      <td>...</td>\n",
       "      <td>...</td>\n",
       "    </tr>\n",
       "    <tr>\n",
       "      <th rowspan=\"5\" valign=\"top\">5619621</th>\n",
       "      <th>4717</th>\n",
       "      <td>(permitted, VBN)</td>\n",
       "      <td>VBN</td>\n",
       "      <td>permitted</td>\n",
       "      <td>permitted</td>\n",
       "    </tr>\n",
       "    <tr>\n",
       "      <th>4718</th>\n",
       "      <td>(by, IN)</td>\n",
       "      <td>IN</td>\n",
       "      <td>by</td>\n",
       "      <td>by</td>\n",
       "    </tr>\n",
       "    <tr>\n",
       "      <th>4719</th>\n",
       "      <td>(the, DT)</td>\n",
       "      <td>DT</td>\n",
       "      <td>the</td>\n",
       "      <td>the</td>\n",
       "    </tr>\n",
       "    <tr>\n",
       "      <th>4720</th>\n",
       "      <td>(prior, JJ)</td>\n",
       "      <td>JJ</td>\n",
       "      <td>prior</td>\n",
       "      <td>prior</td>\n",
       "    </tr>\n",
       "    <tr>\n",
       "      <th>4721</th>\n",
       "      <td>(art, NN)</td>\n",
       "      <td>NN</td>\n",
       "      <td>art</td>\n",
       "      <td>art</td>\n",
       "    </tr>\n",
       "  </tbody>\n",
       "</table>\n",
       "<p>5820454 rows × 4 columns</p>\n",
       "</div>"
      ],
      "text/plain": [
       "                          pos_tuple  pos   token_str    term_str\n",
       "doc_id  token_num                                               \n",
       "5597916 0           (examples, NNS)  NNS    examples    examples\n",
       "        1          (analytical, JJ)   JJ  analytical  analytical\n",
       "        2               (data, NNS)  NNS        data        data\n",
       "        3               (were, VBD)  VBD        were        were\n",
       "        4           (recorded, VBN)  VBN    recorded    recorded\n",
       "...                             ...  ...         ...         ...\n",
       "5619621 4717       (permitted, VBN)  VBN   permitted   permitted\n",
       "        4718               (by, IN)   IN          by          by\n",
       "        4719              (the, DT)   DT         the         the\n",
       "        4720            (prior, JJ)   JJ       prior       prior\n",
       "        4721              (art, NN)   NN         art         art\n",
       "\n",
       "[5820454 rows x 4 columns]"
      ]
     },
     "execution_count": 128,
     "metadata": {},
     "output_type": "execute_result"
    }
   ],
   "source": [
    "TOKENS"
   ]
  },
  {
   "cell_type": "code",
   "execution_count": null,
   "id": "6b8b1d33-5d0f-4586-848d-2afb78c52e59",
   "metadata": {},
   "outputs": [],
   "source": [
    "TOKENS.pos.unique()"
   ]
  },
  {
   "cell_type": "markdown",
   "id": "46af210f-79f3-4c62-86f5-cac1f5d391a3",
   "metadata": {},
   "source": [
    "## VOCAB"
   ]
  },
  {
   "cell_type": "code",
   "execution_count": 129,
   "id": "858570a2-19eb-4442-99aa-6da926246471",
   "metadata": {},
   "outputs": [],
   "source": [
    "VOCAB = TOKENS.term_str.value_counts().to_frame('n')\n",
    "VOCAB.index.name = 'term_str'\n",
    "VOCAB['p'] = VOCAB.n / VOCAB.n.sum()\n",
    "VOCAB['i'] = -np.log2(VOCAB.p)\n",
    "VOCAB['n_chars'] = VOCAB.index.str.len()\n",
    "\n",
    "VOCAB['max_pos'] = TOKENS[['term_str','pos']].value_counts().unstack(fill_value=0).idxmax(1)\n",
    "\n",
    "TPM = TOKENS[['term_str','pos']].value_counts().unstack()\n",
    "VOCAB['n_pos'] = TPM.count(1)\n",
    "\n",
    "# stopwords\n",
    "sw = pd.DataFrame({'stop': 1}, index=nltk.corpus.stopwords.words('english'))\n",
    "sw.index.name='term_str'\n",
    "\n",
    "if 'stop' not in VOCAB.columns:\n",
    "    VOCAB = VOCAB.join(sw)\n",
    "    VOCAB['stop'] = VOCAB['stop'].fillna(0).astype('int')\n",
    "\n",
    "# stems\n",
    "from nltk.stem.porter import PorterStemmer\n",
    "stemmer = PorterStemmer()\n",
    "VOCAB['p_stem'] = VOCAB.apply(lambda x: stemmer.stem(x.name), 1)"
   ]
  },
  {
   "cell_type": "code",
   "execution_count": 143,
   "id": "65bfde8a-bb56-40bd-a209-c4093a073331",
   "metadata": {},
   "outputs": [],
   "source": [
    "CORPUS = TOKENS.copy()"
   ]
  },
  {
   "cell_type": "code",
   "execution_count": 145,
   "id": "1baa41b0-f782-4b2d-b0fc-b00d6d2f2754",
   "metadata": {},
   "outputs": [],
   "source": [
    "bag = ['doc_id']"
   ]
  },
  {
   "cell_type": "code",
   "execution_count": 152,
   "id": "6431adb6-c848-439a-a7cb-660c752a1f2c",
   "metadata": {},
   "outputs": [],
   "source": [
    "def create_bow(CORPUS, bag, item_type='term_str'):\n",
    "    ''' Goal: generate bag of words'''\n",
    "    BOW = CORPUS.groupby(bag+[item_type])[item_type].count().to_frame('n')\n",
    "    return BOW\n",
    "\n",
    "\n",
    "def get_tfidf(BOW, tf_method='max', df_method='standard', item_type='term_str'):\n",
    "    \n",
    "    ''' Goal: generate TFIDF, IDF '''\n",
    "    DTCM = BOW.n.unstack(fill_value=0) # Create Doc-Term Count Matrix\n",
    "    \n",
    "    if tf_method == 'sum':\n",
    "        TF = (DTCM.T / DTCM.T.sum()).T\n",
    "    elif tf_method == 'max':\n",
    "        TF = (DTCM.T / DTCM.T.max()).T # 每个word在每个bag中出现频率，TF越高，这个word在这个bag中越重要\n",
    "    elif tf_method == 'log':\n",
    "        TF = (np.log2(1 + DTCM.T)).T\n",
    "    elif tf_method == 'raw':\n",
    "        TF = DTCM\n",
    "    elif tf_method == 'bool':\n",
    "        TF = DTCM.astype('bool').astype('int')\n",
    "    else:\n",
    "        raise ValueError(f\"TF method {tf_method} not found.\")\n",
    "\n",
    "    DF = DTCM.astype('bool').sum() # 每个word共出现在多少bag中\n",
    "    N_docs = len(DTCM)\n",
    "    \n",
    "    if df_method == 'standard':\n",
    "        IDF = np.log2(N_docs/DF) # IDF越大，一个word越被它出现的那个bag独有\n",
    "    elif df_method == 'textbook':\n",
    "        IDF = np.log2(N_docs/(DF + 1))\n",
    "    elif df_method == 'sklearn':\n",
    "        IDF = np.log2(N_docs/DF) + 1\n",
    "    elif df_method == 'sklearn_smooth':\n",
    "        IDF = np.log2((N_docs + 1)/(DF + 1)) + 1\n",
    "    else:\n",
    "        raise ValueError(f\"DF method {df_method} not found.\")\n",
    "    \n",
    "    TFIDF = TF * IDF\n",
    "    \n",
    "    return TFIDF, IDF"
   ]
  },
  {
   "cell_type": "code",
   "execution_count": 156,
   "id": "28d6ec02-76cf-43b0-9db7-86f09844ce20",
   "metadata": {},
   "outputs": [],
   "source": [
    "BOW = create_bow(CORPUS, bag, item_type='term_str')\n",
    "\n",
    "TFIDF, IDF = get_tfidf(BOW)\n",
    "\n",
    "DTCM = BOW.n.unstack().fillna(0).astype('int')\n",
    "\n",
    "# compute DF\n",
    "DF = DTCM.astype('bool').sum()\n",
    "    \n",
    "# compute DFIDF\n",
    "VOCAB['df'] = DF\n",
    "VOCAB['idf'] = IDF\n",
    "VOCAB['dfidf'] = VOCAB.df * VOCAB.idf"
   ]
  },
  {
   "cell_type": "markdown",
   "id": "6375080f-ee38-407c-96f2-91f1737dc6c3",
   "metadata": {},
   "source": [
    "# Save"
   ]
  },
  {
   "cell_type": "markdown",
   "id": "ccad0bdb-ebef-4160-8dda-28001608983d",
   "metadata": {},
   "source": [
    "customize"
   ]
  },
  {
   "cell_type": "code",
   "execution_count": null,
   "id": "e2736abc-6a46-451b-b305-1af3a5792fe3",
   "metadata": {},
   "outputs": [],
   "source": [
    "path = '/Users/yangyu/Desktop/DS5001/output'\n",
    "df1.to_pickle(path + '/df1.pickle')"
   ]
  },
  {
   "cell_type": "code",
   "execution_count": 158,
   "id": "e5395cf1-2b9b-4984-940d-7cfd99525b15",
   "metadata": {},
   "outputs": [],
   "source": [
    "path = '/Users/yangyu/Desktop/DS5001/output'\n",
    "TOKENS.to_pickle(path + '/TOKENS.pickle')\n",
    "VOCAB.to_pickle(path + '/VOCAB.pickle')"
   ]
  },
  {
   "cell_type": "code",
   "execution_count": null,
   "id": "e3632929-5635-463a-958e-7c932af80bbe",
   "metadata": {},
   "outputs": [],
   "source": []
  }
 ],
 "metadata": {
  "kernelspec": {
   "display_name": "Python 3 (ipykernel)",
   "language": "python",
   "name": "python3"
  },
  "language_info": {
   "codemirror_mode": {
    "name": "ipython",
    "version": 3
   },
   "file_extension": ".py",
   "mimetype": "text/x-python",
   "name": "python",
   "nbconvert_exporter": "python",
   "pygments_lexer": "ipython3",
   "version": "3.10.9"
  }
 },
 "nbformat": 4,
 "nbformat_minor": 5
}
